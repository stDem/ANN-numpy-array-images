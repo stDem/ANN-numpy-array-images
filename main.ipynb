{
 "cells": [
  {
   "cell_type": "markdown",
   "metadata": {},
   "source": []
  },
  {
   "cell_type": "markdown",
   "metadata": {},
   "source": [
    "<img src=\"./kuzushiji.jpg\" style=\"max-height:20em\"></img>"
   ]
  },
  {
   "cell_type": "code",
   "execution_count": null,
   "metadata": {},
   "outputs": [],
   "source": [
    "import numpy as np\n",
    "import matplotlib.pyplot as plt"
   ]
  },
  {
   "cell_type": "markdown",
   "metadata": {},
   "source": [
    "Kuzushiji-MNIST dataset. The datasets are structured as train and test, consisting of images each with dimensions of (1,28,28), indicating that each example is a grayscale image with dimensions 28x28 pixels (1 is the number of channels in the image. For grayscale images, C = 1, while for color images, C = 3 (representing red, green, and blue channels)).\n",
    "Both the train and test datasets have the same shapes and data types. so there are no issues with data format or compatibility for model training and testing.\n",
    "\n",
    "You can see all dataset visualization in the separate file \"./datasets-view.ipynb\". First of all, let's look at 15 examples of each datset (5 from start, 5 from middle, and 5 from end) to compare them. What we can see from datasets visualisation:\n",
    "\n",
    "Advantages of datasets:\n",
    "- big enough;\n",
    "- all train, test, and test2 datasets have labels (good for evaluation);\n",
    "- all train, test, and test2 datasets have the same amount of labels (no class mismatch) and the same amount of images in each label (no imbalanced).\n",
    "\n",
    "Disadvantages of datasets:\n",
    "- test and test2 datasets include symbols not present in the train dataset (with reversed color - white backgroung with black symbol);\n",
    "- test2 dataset doesn't represent train dataset at all, but has the similar symbols as in the test dataset."
   ]
  },
  {
   "cell_type": "code",
   "execution_count": null,
   "metadata": {},
   "outputs": [],
   "source": []
  },
  {
   "cell_type": "code",
   "execution_count": null,
   "metadata": {},
   "outputs": [],
   "source": []
  },
  {
   "cell_type": "code",
   "execution_count": null,
   "metadata": {},
   "outputs": [],
   "source": []
  },
  {
   "cell_type": "code",
   "execution_count": null,
   "metadata": {},
   "outputs": [],
   "source": []
  },
  {
   "cell_type": "code",
   "execution_count": null,
   "metadata": {},
   "outputs": [],
   "source": []
  },
  {
   "cell_type": "code",
   "execution_count": null,
   "metadata": {},
   "outputs": [],
   "source": []
  },
  {
   "cell_type": "code",
   "execution_count": null,
   "metadata": {},
   "outputs": [],
   "source": []
  },
  {
   "cell_type": "markdown",
   "metadata": {},
   "source": []
  },
  {
   "cell_type": "code",
   "execution_count": null,
   "metadata": {},
   "outputs": [],
   "source": []
  },
  {
   "cell_type": "code",
   "execution_count": null,
   "metadata": {},
   "outputs": [],
   "source": []
  },
  {
   "cell_type": "code",
   "execution_count": null,
   "metadata": {},
   "outputs": [],
   "source": []
  },
  {
   "cell_type": "code",
   "execution_count": null,
   "metadata": {},
   "outputs": [],
   "source": []
  },
  {
   "cell_type": "markdown",
   "metadata": {},
   "source": [
    "We have bad accuracy as expexed. What can we do:\n",
    "1. Create new train dataset consisting of initial train dataset and initial train dataset with reversed color (change black background on white and black symbols on white).\n",
    "2. Train model again using new train dataset."
   ]
  },
  {
   "cell_type": "markdown",
   "metadata": {},
   "source": []
  }
 ],
 "metadata": {
  "kernelspec": {
   "display_name": "Python 3",
   "language": "python",
   "name": "python3"
  },
  "language_info": {
   "codemirror_mode": {
    "name": "ipython",
    "version": 3
   },
   "file_extension": ".py",
   "mimetype": "text/x-python",
   "name": "python",
   "nbconvert_exporter": "python",
   "pygments_lexer": "ipython3",
   "version": "3.12.0"
  }
 },
 "nbformat": 4,
 "nbformat_minor": 2
}
